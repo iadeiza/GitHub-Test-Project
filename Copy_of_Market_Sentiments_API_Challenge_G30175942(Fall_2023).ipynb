{
  "nbformat": 4,
  "nbformat_minor": 0,
  "metadata": {
    "colab": {
      "provenance": [],
      "include_colab_link": true
    },
    "kernelspec": {
      "name": "python3",
      "display_name": "Python 3"
    },
    "language_info": {
      "name": "python"
    }
  },
  "cells": [
    {
      "cell_type": "markdown",
      "metadata": {
        "id": "view-in-github",
        "colab_type": "text"
      },
      "source": [
        "<a href=\"https://colab.research.google.com/github/iadeiza/GitHub-Test-Project/blob/main/Copy_of_Market_Sentiments_API_Challenge_G30175942(Fall_2023).ipynb\" target=\"_parent\"><img src=\"https://colab.research.google.com/assets/colab-badge.svg\" alt=\"Open In Colab\"/></a>"
      ]
    },
    {
      "cell_type": "markdown",
      "source": [
        "For this exercise, we will request news sentiment data about a given company from the AlphaVantage API, and then display a news feed of articles that are relevant to that company.\n",
        "\n",
        "\n",
        "It may be helpful to take a few minutes to consult the documentation for the [News and Sentiments API endpoint](https://www.alphavantage.co/documentation/#news-sentiment) to learn more, and make a plan, before developing a solution.\n",
        "\n",
        "The scratch work section at bottom provides a step by step walk-through of the development process. The solution / dashboard section asks you to re-implement the same code, but packaged up within the context of an interactive dashboard.\n",
        "\n"
      ],
      "metadata": {
        "id": "AfqHoHor_3ED"
      }
    },
    {
      "cell_type": "markdown",
      "source": [
        "## Requirements"
      ],
      "metadata": {
        "id": "ggI1E00LBGDZ"
      }
    },
    {
      "cell_type": "markdown",
      "source": [
        "\n",
        "Define a function called `display_articles`. The function should accept a string parameter called `symbol` and a float parameter called `min_relevance` (with assumed value between 0 and 1). Within the function definition, assign your own desired default values for each of these parameters.\n",
        "\n",
        "When invoked (for example using the Stocks Selection Form), the function should A) fetch news sentiments data about the given company, and B) display summary information about all articles that have a high relevance for this company (i.e. **only those articles with a ticker-specific relevance score greater than the specified minimum value**).\n",
        "\n",
        "For any article that meets the criteria, the function should specifically display the following information about that article:\n",
        "\n",
        "  + **Title**\n",
        "  + **Source**\n",
        "  + **Author** (just the first one is fine)\n",
        "  + **Image** (ideally displayed using [`IPython.display`](https://github.com/prof-rossetti/intro-to-python/blob/main/notes/python/packages/ipython.md#displaying-images))\n",
        "  + **Summary**\n",
        "  + **URL**\n",
        "  + **Ticker-Specific Sentiment Score** (for the selected company only)\n",
        "  + **Ticker-Specific Relevance Score** (for the selected company only)\n",
        "\n"
      ],
      "metadata": {
        "id": "NPZ2xMKYBHkF"
      }
    },
    {
      "cell_type": "markdown",
      "source": [
        "\n",
        "Here is an example output:\n",
        "\n",
        "<img height=\"400\" alt=\"Screenshot 2023-09-25 at 4 41 20 PM\" src=\"https://github.com/prof-rossetti/intro-to-python/assets/1328807/1a9caf8a-e31c-49e6-add8-89ac50a4b9b6\">\n",
        "\n",
        "> NOTE: your results will look different depending on when you run the dashboard"
      ],
      "metadata": {
        "id": "YjCWJrhZE_Yu"
      }
    },
    {
      "cell_type": "markdown",
      "source": [
        "## Evaluation"
      ],
      "metadata": {
        "id": "EAlBKEed8iST"
      }
    },
    {
      "cell_type": "markdown",
      "source": [
        "Submissions will be evaluated according to the \"Requirements\" section below, as represented by the following rubric:\n",
        "\n",
        "Category | Requirement | Weight\n",
        "--- | --- | ---\n",
        "Security | Securely handles the API Key. Avoids exposure by asking for a secure input, and avoids printing or hard-coding the key. | 20%\n",
        "Function | Function works properly and all solution code is packaged inside. | 25%\n",
        "Info Outputs | Presents all desired article summary information, ideally in a clear way with clean formatting. | 40%\n",
        "Info Outputs | Displays article images, as applicable | 10%\n",
        "\n",
        "This rubric is tentative, and may be subject to slight adjustments during the grading process.\n",
        "\n",
        "If experiencing execution error(s) while evaluating the application's required functionality, evaluators are advised to reduce the project's grade by between 4% and 25%, depending on the circumstances and severity of the error(s).\n",
        "\n"
      ],
      "metadata": {
        "id": "yJosJ5Qv8kj8"
      }
    },
    {
      "cell_type": "markdown",
      "source": [
        "## Setup\n"
      ],
      "metadata": {
        "id": "OIH1FeThxMn_"
      }
    },
    {
      "cell_type": "markdown",
      "source": [
        "### API Key\n"
      ],
      "metadata": {
        "id": "msvuiCfV_Rlq"
      }
    },
    {
      "cell_type": "markdown",
      "source": [
        "\n",
        "\n",
        "Obtain a free AlphaVantage API Key, or use one of the prof's premium keys, and supply it via the cell below. Your code should reference this `API_KEY` variable when making requests."
      ],
      "metadata": {
        "id": "E7LM9kwAiZKj"
      }
    },
    {
      "cell_type": "code",
      "source": [
        "from getpass import getpass\n",
        "\n",
        "API_KEY = getpass(\"Please input your AlphaVantage API Key: \") or \"demo\""
      ],
      "metadata": {
        "id": "volez18go4Xw",
        "colab": {
          "base_uri": "https://localhost:8080/"
        },
        "outputId": "c9255891-8573-4107-bd32-371ff460d594"
      },
      "execution_count": 2,
      "outputs": [
        {
          "name": "stdout",
          "output_type": "stream",
          "text": [
            "Please input your AlphaVantage API Key: ··········\n"
          ]
        }
      ]
    },
    {
      "cell_type": "markdown",
      "source": [
        "## Dashboard / Solution"
      ],
      "metadata": {
        "id": "8x6uXETRmZu9"
      }
    },
    {
      "cell_type": "markdown",
      "source": [
        "> NOTE: you may want to first develop your solution using the scratch work section at the bottom. Then when you are done and satisfied with your code, return to this section to package up your code in a working function and dashboard interface.\n",
        "\n",
        "> NOTE: Only the code in this solution section will be evaluated. All solution code needs to be packaged inside the function so that it is executed when the function is invoked!\n"
      ],
      "metadata": {
        "id": "wceut1AizhXQ"
      }
    },
    {
      "cell_type": "code",
      "source": [
        "import requests\n",
        "import json\n",
        "from IPython.display import Image, display\n",
        "\n",
        "\n",
        "def display_articles(symbol=\"NFLX\", min_relevance=0.5):\n",
        "\n",
        "    print(\"NEWS FOR:\", symbol)\n",
        "    print(\"MIN RELEVANCE:\", min_relevance)\n",
        "    # todo: display the articles\n",
        "    url = f\"https://www.alphavantage.co/query?function=NEWS_SENTIMENT&tickers={symbol}&apikey={API_KEY}\"\n",
        "    response = requests.get(url)\n",
        "    data = json.loads(response.text)\n",
        "    #print(data)\n",
        "    # todo: display the articles\n",
        "    articles = data['feed']\n",
        "    # print the total lenght of the articles\n",
        "    print(f\"\\nThe number of articles is {len(articles)}\")\n",
        "    count = 0\n",
        "\n",
        "    for item in articles:\n",
        "      for sub in item['ticker_sentiment']:\n",
        "        if sub['ticker'] == symbol and float(sub['relevance_score']) > min_relevance:\n",
        "            print(f\"Article #{count}\")\n",
        "            print(f\"Title:{item['title']}\")\n",
        "\n",
        "            if len(item['authors']) != 0:\n",
        "                print(f\"Author: {item['authors'][0]}\")\n",
        "            else:\n",
        "                print(\"This article has no authors\")\n",
        "\n",
        "            if item['banner_image'] is not None:\n",
        "                image = item['banner_image']\n",
        "                display_image = display(Image(url=image, width = 100, height = 100))\n",
        "            else:\n",
        "                print(\"This article has no image\")\n",
        "\n",
        "            print(item['summary'])\n",
        "            print(f\"URL: {item['url']}\")\n",
        "            print(f\"SENTIMENT: {sub['ticker_sentiment_score']} ({sub['ticker_sentiment_label']})\")\n",
        "            print(f\"RELEVANCE: {sub['relevance_score']}\")\n",
        "            print('-----------------------')\n",
        "\n",
        "            count = count + 1\n",
        "\n",
        "\n",
        "\n",
        "\n",
        "\n",
        "\n"
      ],
      "metadata": {
        "id": "XAg8z2xnpcCz"
      },
      "execution_count": 12,
      "outputs": []
    },
    {
      "cell_type": "markdown",
      "source": [
        "### Stock Selection Form"
      ],
      "metadata": {
        "id": "frkQ-V4NxBR6"
      }
    },
    {
      "cell_type": "code",
      "source": [
        "#@markdown Select a stock and a minimum relevance threshold. Then run the cell to display news artices relevant to that company.\n",
        "\n",
        "symbol = \"NFLX\"  #@param ['AAPL', 'GOOG', 'MSFT', 'NFLX']\n",
        "min_relevance = 0.5  #@param {type: \"slider\", min: 0, max: 1, step: 0.1}\n",
        "\n",
        "display_articles(symbol=symbol, min_relevance=min_relevance)"
      ],
      "metadata": {
        "colab": {
          "base_uri": "https://localhost:8080/",
          "height": 1000
        },
        "id": "Zm28YXBAo71-",
        "outputId": "4f8b2d9d-6a6d-4d5c-841d-d990904bcd9c"
      },
      "execution_count": 13,
      "outputs": [
        {
          "output_type": "stream",
          "name": "stdout",
          "text": [
            "NEWS FOR: NFLX\n",
            "MIN RELEVANCE: 0.5\n",
            "\n",
            "The number of articles is 50\n",
            "Article #0\n",
            "Title:Netflix And Chill, Buy Our Merch: Streaming Giant Ready To Make Money With New Consumer Products, Experiences From Shows - Netflix  ( NASDAQ:NFLX ) \n",
            "Author: Chris Katje\n"
          ]
        },
        {
          "output_type": "display_data",
          "data": {
            "text/html": [
              "<img src=\"https://cdn.benzinga.com/files/images/story/2023/10/04/netflix.shutterstock_1629484330.jpg?width=1200&height=800&fit=crop\" width=\"100\" height=\"100\"/>"
            ],
            "text/plain": [
              "<IPython.core.display.Image object>"
            ]
          },
          "metadata": {}
        },
        {
          "output_type": "stream",
          "name": "stdout",
          "text": [
            "Streaming giant Netflix Inc NFLX has had many hit shows over the years from \"Stranger Things\" to \"Squid Game\" and everything in between. The company is now looking for more ways to monetize its loyal fans and the success of hit shows similar to other media companies.\n",
            "URL: https://www.benzinga.com/general/entertainment/23/10/35097694/netflix-and-chill-buy-our-merch-streaming-giant-ready-to-make-money-with-new-consumer-produ\n",
            "SENTIMENT: 0.256265 (Somewhat-Bullish)\n",
            "RELEVANCE: 0.872507\n",
            "-----------------------\n",
            "Article #1\n",
            "Title:Netflix's Price Hike Is A Risky Move During Economic Uncertainty, Analyst Says - Netflix  ( NASDAQ:NFLX ) \n",
            "Author: Anusuya Lahiri\n"
          ]
        },
        {
          "output_type": "display_data",
          "data": {
            "text/html": [
              "<img src=\"https://cdn.benzinga.com/files/images/story/2023/10/04/netflix_tv-photo_by_tumisu_via_pixabay.jpg?width=1200&height=800&fit=crop\" width=\"100\" height=\"100\"/>"
            ],
            "text/plain": [
              "<IPython.core.display.Image object>"
            ]
          },
          "metadata": {}
        },
        {
          "output_type": "stream",
          "name": "stdout",
          "text": [
            "Benchmark analyst Matthew Harrigan reiterated Netflix Inc NFLX with a Sell and a $325 price target.\n",
            "URL: https://www.benzinga.com/news/23/10/35093164/netflixs-price-hike-is-a-risky-move-during-economic-uncertainty-analyst-says\n",
            "SENTIMENT: 0.172242 (Somewhat-Bullish)\n",
            "RELEVANCE: 0.501398\n",
            "-----------------------\n",
            "Article #2\n",
            "Title:Here's Why Netflix Can Afford The Writers' Strike Deal\n",
            "Author: Investor's Business Daily\n"
          ]
        },
        {
          "output_type": "display_data",
          "data": {
            "text/html": [
              "<img src=\"https://www.investors.com/wp-content/uploads/2020/07/ETFLEADERS-netflix-072420-adobe.jpg\" width=\"100\" height=\"100\"/>"
            ],
            "text/plain": [
              "<IPython.core.display.Image object>"
            ]
          },
          "metadata": {}
        },
        {
          "output_type": "stream",
          "name": "stdout",
          "text": [
            "After nearly five months, the Hollywood writers' strike is coming to an end with a tentative agreement with studios reached last week. But can Netflix, which was called \"Enemy No. 1\" during the strike, afford the new deal with the Writers Guild of America? And how will it affect Netflix stock?\n",
            "URL: https://www.investors.com/news/technology/netflix-stock-why-netflix-can-afford-writers-strike-deal/\n",
            "SENTIMENT: 0.20726 (Somewhat-Bullish)\n",
            "RELEVANCE: 0.629152\n",
            "-----------------------\n",
            "Article #3\n",
            "Title:Netflix Executive Chairman Acquires 17,717 Shares After Exercising Company Stock Options - Netflix  ( NASDAQ:NFLX ) \n",
            "Author: Benzinga Insights\n"
          ]
        },
        {
          "output_type": "display_data",
          "data": {
            "text/html": [
              "<img src=\"https://cdn.benzinga.com/files/images/story/2023/insider_image_2.jpeg?width=1200&height=800&fit=crop\" width=\"100\" height=\"100\"/>"
            ],
            "text/plain": [
              "<IPython.core.display.Image object>"
            ]
          },
          "metadata": {}
        },
        {
          "output_type": "stream",
          "name": "stdout",
          "text": [
            "Reed Hastings, Executive Chairman at Netflix NFLX, reported a large exercise of company stock options on October 4, according to a new SEC filing. What Happened: A Form 4 filing from the U.S.\n",
            "URL: https://www.benzinga.com/news/23/10/35091684/netflix-executive-chairman-acquires-17-717-shares-after-exercising-company-stock-options\n",
            "SENTIMENT: 0.37267 (Bullish)\n",
            "RELEVANCE: 0.542261\n",
            "-----------------------\n",
            "Article #4\n",
            "Title:Get Ready to Pay More for Netflix\n",
            "Author: Rick Munarriz\n"
          ]
        },
        {
          "output_type": "display_data",
          "data": {
            "text/html": [
              "<img src=\"https://g.foolcdn.com/image/?url=https%3A%2F%2Fg.foolcdn.com%2Feditorial%2Fimages%2F749804%2Fgettyimages-1167992498.jpg&op=resize&w=700\" width=\"100\" height=\"100\"/>"
            ],
            "text/plain": [
              "<IPython.core.display.Image object>"
            ]
          },
          "metadata": {}
        },
        {
          "output_type": "stream",
          "name": "stdout",
          "text": [
            "Mind the gap, subscribers and investors.\n",
            "URL: https://www.fool.com/investing/2023/10/04/get-ready-to-pay-more-for-netflix/\n",
            "SENTIMENT: 0.241672 (Somewhat-Bullish)\n",
            "RELEVANCE: 0.801457\n",
            "-----------------------\n",
            "Article #5\n",
            "Title:Netflix's price hike plans may prove untimely as economy and stock market weakens, analyst says\n",
            "Author: Ciara Linnane\n"
          ]
        },
        {
          "output_type": "display_data",
          "data": {
            "text/html": [
              "<img src=\"https://images.mktw.net/im-857322/social\" width=\"100\" height=\"100\"/>"
            ],
            "text/plain": [
              "<IPython.core.display.Image object>"
            ]
          },
          "metadata": {}
        },
        {
          "output_type": "stream",
          "name": "stdout",
          "text": [
            "A report that Netflix Inc. is planning to raise prices as soon as the current actors strike is over may prove untimely.\n",
            "URL: https://www.marketwatch.com/story/netflixs-price-hike-plans-may-prove-untimely-as-economy-and-stock-market-weakens-analyst-says-6a00a67e\n",
            "SENTIMENT: 0.119145 (Neutral)\n",
            "RELEVANCE: 0.512933\n",
            "-----------------------\n",
            "Article #6\n",
            "Title:Netflix And Discovery+ Will Hike Streaming Prices As Hollywood Strike Wears On\n",
            "Author: Mary Whitfill Roeloffs\n"
          ]
        },
        {
          "output_type": "display_data",
          "data": {
            "text/html": [
              "<img src=\"https://imageio.forbes.com/specials-images/imageserve/651d6df35a847f032137524f/0x0.jpg?format=jpg&crop=4000,2252,x0,y206,safe&width=1200\" width=\"100\" height=\"100\"/>"
            ],
            "text/plain": [
              "<IPython.core.display.Image object>"
            ]
          },
          "metadata": {}
        },
        {
          "output_type": "stream",
          "name": "stdout",
          "text": [
            "Here are all the streaming services that have raised their prices this year.\n",
            "URL: https://www.forbes.com/sites/maryroeloffs/2023/10/04/netflix-and-discovery-will-hike-streaming-prices-as-hollywood-strike-wears-on/\n",
            "SENTIMENT: 0.038725 (Neutral)\n",
            "RELEVANCE: 0.591449\n",
            "-----------------------\n",
            "Article #7\n",
            "Title:Netflix replaces top ad exec after one year in surprise shakeup, putting a company insider in charge of the growing business\n",
            "Author: Lucia Moses\n"
          ]
        },
        {
          "output_type": "display_data",
          "data": {
            "text/html": [
              "<img src=\"https://i.insider.com/651c999c617692f0d03e762c?width=1200&format=jpeg\" width=\"100\" height=\"100\"/>"
            ],
            "text/plain": [
              "<IPython.core.display.Image object>"
            ]
          },
          "metadata": {}
        },
        {
          "output_type": "stream",
          "name": "stdout",
          "text": [
            "Netflix Replaces Top Ad Exec With Longtime Company Insider in Shakeup - Business Insider ...\n",
            "URL: https://www.businessinsider.com/netflix-replaces-top-ad-ex-with-company-insider-surprise-shakeup-2023-10\n",
            "SENTIMENT: 0.159879 (Somewhat-Bullish)\n",
            "RELEVANCE: 0.641573\n",
            "-----------------------\n",
            "Article #8\n",
            "Title:Netflix  ( NFLX )  Stock Moves -0.94%: What You Should Know\n",
            "Author: Zacks Equity Research\n"
          ]
        },
        {
          "output_type": "display_data",
          "data": {
            "text/html": [
              "<img src=\"https://staticx-tuner.zacks.com/images/default_article_images/default54.jpg\" width=\"100\" height=\"100\"/>"
            ],
            "text/plain": [
              "<IPython.core.display.Image object>"
            ]
          },
          "metadata": {}
        },
        {
          "output_type": "stream",
          "name": "stdout",
          "text": [
            "Netflix (NFLX) closed at $376.77 in the latest trading session, marking a -0.94% move from the prior day.\n",
            "URL: https://www.zacks.com/stock/news/2159586/netflix-nflx-stock-moves--094-what-you-should-know\n",
            "SENTIMENT: 0.194125 (Somewhat-Bullish)\n",
            "RELEVANCE: 0.537213\n",
            "-----------------------\n",
            "Article #9\n",
            "Title:Netflix Stock Jumps As Company Contemplates Price Increases: The Details - Netflix  ( NASDAQ:NFLX ) \n",
            "Author: Adam Eckert\n"
          ]
        },
        {
          "output_type": "display_data",
          "data": {
            "text/html": [
              "<img src=\"https://cdn.benzinga.com/files/images/story/2023/10/03/tv-5571609_1920-2.jpg?width=1200&height=800&fit=crop\" width=\"100\" height=\"100\"/>"
            ],
            "text/plain": [
              "<IPython.core.display.Image object>"
            ]
          },
          "metadata": {}
        },
        {
          "output_type": "stream",
          "name": "stdout",
          "text": [
            "Netflix Inc NFLX shares are trading higher Tuesday following a report suggesting the company plans to raise prices after the actors strike ends. What To Know: According to a Wall Street Journal report, Netflix will raise the price of its ad-free service a few months after the Hollywood actors ...\n",
            "URL: https://www.benzinga.com/news/23/10/35065382/netflix-stock-jumps-as-company-contemplates-price-increases-the-details\n",
            "SENTIMENT: -0.020904 (Neutral)\n",
            "RELEVANCE: 0.87744\n",
            "-----------------------\n",
            "Article #10\n",
            "Title:Netflix plans to increase price of ad-free service once the actors strike ends: WSJ\n",
            "Author: Ciara Linnane\n"
          ]
        },
        {
          "output_type": "display_data",
          "data": {
            "text/html": [
              "<img src=\"https://images.mktw.net/im-861751/social\" width=\"100\" height=\"100\"/>"
            ],
            "text/plain": [
              "<IPython.core.display.Image object>"
            ]
          },
          "metadata": {}
        },
        {
          "output_type": "stream",
          "name": "stdout",
          "text": [
            "T he streaming giant is discussing price hikes in a number of markets, but will likely kick them off in the U.S. and Canada, the paper reported.\n",
            "URL: https://www.marketwatch.com/story/netflix-plans-to-increase-price-of-ad-free-service-once-the-actors-strike-ends-wsj-55aa7050\n",
            "SENTIMENT: -0.208623 (Somewhat-Bearish)\n",
            "RELEVANCE: 0.798255\n",
            "-----------------------\n"
          ]
        }
      ]
    },
    {
      "cell_type": "code",
      "source": [],
      "metadata": {
        "id": "E4HgDXbKB3c2"
      },
      "execution_count": null,
      "outputs": []
    },
    {
      "cell_type": "markdown",
      "source": [
        "## Walkthrough / Scratch Work"
      ],
      "metadata": {
        "id": "jy0_dkxerqQd"
      }
    },
    {
      "cell_type": "markdown",
      "source": [
        "Feel free to use the section below for scratch work, which will not be evaluated.\n",
        "\n",
        "If there is any solution code make sure to include it in the \"Solution\" section above instead!"
      ],
      "metadata": {
        "id": "ljz1uhFKBtFt"
      }
    },
    {
      "cell_type": "markdown",
      "source": [
        "\n",
        "A) Ask the user to input a stock symbol (i.e. \"NFLX\") and store it in a variable called `symbol`. Then print the selected symbol. Assume the user inputs a valid symbol (i.e. no need for validations).\n"
      ],
      "metadata": {
        "id": "jpkyjKg1juYm"
      }
    },
    {
      "cell_type": "code",
      "source": [],
      "metadata": {
        "id": "CZNNfVhdjttO"
      },
      "execution_count": null,
      "outputs": []
    },
    {
      "cell_type": "code",
      "source": [],
      "metadata": {
        "id": "PLa2Q48Jk7Z0"
      },
      "execution_count": null,
      "outputs": []
    },
    {
      "cell_type": "markdown",
      "source": [
        "B) After consulting the API docs, find the desired request URL for Market News and Sentiments, and create a string variable called `request_url` to represent this URL. Use string concatenation or a format string to join the `symbol` variable from Part A with the prodived `API_KEY` variable from the setup cell. Assume the user has input a valid API Key (i.e. no need for validations).\n",
        "\n",
        "> NOTE: To include news across all categories, let's not supply any topic related parameters in our requests. The only URL parameters we should need are `function` and `tickers` and `apikey` (ignore all other params). See example provided below."
      ],
      "metadata": {
        "id": "R7GTe028jv1G"
      }
    },
    {
      "cell_type": "code",
      "source": [
        "# request_url = \"https://www.alphavantage.co/query?function=NEWS_SENTIMENT&tickers=TODO&apikey=TODO\"\n",
        "\n",
        "\n"
      ],
      "metadata": {
        "id": "johEn5Gls4F0"
      },
      "execution_count": null,
      "outputs": []
    },
    {
      "cell_type": "code",
      "source": [],
      "metadata": {
        "id": "KtHlTBtxkymi"
      },
      "execution_count": null,
      "outputs": []
    },
    {
      "cell_type": "code",
      "source": [],
      "metadata": {
        "id": "tSszXo9Mk60B"
      },
      "execution_count": null,
      "outputs": []
    },
    {
      "cell_type": "markdown",
      "source": [
        "\n",
        "C) Using the `request_url` variable from Part B, make an HTTP request for the market news and sentiments about the given company, and store the  response in a variable called `response`. Then convert the resulting JSON-formatted response data into a Python variable called `data`. Access the \"feed\" property of the data and store this in a variable called `articles`. Then print the number of articles (i.e. 50).\n"
      ],
      "metadata": {
        "id": "mYyjmmlUjxPE"
      }
    },
    {
      "cell_type": "code",
      "source": [],
      "metadata": {
        "id": "PZjmq6S6kRpb"
      },
      "execution_count": null,
      "outputs": []
    },
    {
      "cell_type": "code",
      "source": [],
      "metadata": {
        "id": "2wqG7hNkkx2k"
      },
      "execution_count": null,
      "outputs": []
    },
    {
      "cell_type": "code",
      "source": [],
      "metadata": {
        "id": "2xbAaT_qsh-g"
      },
      "execution_count": null,
      "outputs": []
    },
    {
      "cell_type": "markdown",
      "source": [
        "\n",
        "\n",
        "\n",
        "\n",
        "\n",
        "D) Loop through the first three articles and print the following information about each:\n",
        "  + **Title**\n",
        "  + **Author** (just the first one is fine)\n",
        "  + **Image** (ideally displayed using [`IPython.display`](https://github.com/prof-rossetti/intro-to-python/blob/main/notes/python/packages/ipython.md#displaying-images))\n",
        "  + **Summary**\n",
        "  + **URL**\n",
        "  + **Ticker-Specific Sentiment Score** (for the selected company only)\n",
        "  + **Ticker-Specific Relevance Score** (for the selected company only)\n",
        "\n"
      ],
      "metadata": {
        "id": "V6wchUMeiEtK"
      }
    },
    {
      "cell_type": "code",
      "source": [
        "# from IPython.display import Image, display\n"
      ],
      "metadata": {
        "id": "TpVpgSPJvEJZ"
      },
      "execution_count": null,
      "outputs": []
    },
    {
      "cell_type": "code",
      "source": [],
      "metadata": {
        "id": "pDBP3K5Jk6CM"
      },
      "execution_count": null,
      "outputs": []
    },
    {
      "cell_type": "code",
      "source": [],
      "metadata": {
        "id": "ZsPJp3xMk50k"
      },
      "execution_count": null,
      "outputs": []
    },
    {
      "cell_type": "markdown",
      "source": [
        "\n",
        "E) Let's only display information for articles that have a high relevance for this company (i.e. those with a ticker-specific relevance score greater than 50%). Display information about all articles that meet this criteria.\n",
        "\n",
        "> NOTE: the API docs mention a parameter related to relevance, however let's ignore this and use the same data that was previously requested.\n",
        "\n"
      ],
      "metadata": {
        "id": "GuCvkfq1j0Ep"
      }
    },
    {
      "cell_type": "code",
      "source": [],
      "metadata": {
        "id": "M5nFf7rzofM3"
      },
      "execution_count": null,
      "outputs": []
    },
    {
      "cell_type": "code",
      "execution_count": null,
      "metadata": {
        "id": "W2F8prgmh6AY"
      },
      "outputs": [],
      "source": []
    }
  ]
}